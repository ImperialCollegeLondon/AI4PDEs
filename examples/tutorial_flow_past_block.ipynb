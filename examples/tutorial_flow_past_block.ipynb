{
 "cells": [
  {
   "cell_type": "markdown",
   "id": "8682c156-90f3-41b5-bced-4551443f09f1",
   "metadata": {},
   "source": [
    "## A brief introduction and background about AI4PDEs"
   ]
  },
  {
   "attachments": {},
   "cell_type": "markdown",
   "id": "3579556f-063b-40da-be91-ce762bc8733b",
   "metadata": {},
   "source": [
    "The AI4PDEs code solves discretised systems with untrained neural networks. It is used to simulate incompressible Navier-Stokes equations which can be written in 2D as, \n",
    "$$\n",
    "\\frac{\\partial \\mathbf{q}}{\\partial t} + u\\frac{\\partial \\mathbf{q}}{\\partial x} +  v\\frac{\\partial \\mathbf{q}}{\\partial y} + \n",
    "\\sigma \\mathbf{q} - \\nu \\nabla \\cdot \\nabla \\mathbf{q} = -\\nabla p \\,\n",
    "$$\n",
    "\n",
    "$$\n",
    "\\nabla  \\cdot \\mathbf{q} = \\mathbf{0} \\,\n",
    "$$\n",
    "in which $\\mathbf{q}=(u \\;v)^T$ in 2D and $\\mathbf{q}=(u\\;v\\;w)^T$ in 3D, $p$ is the pressure, $\\sigma$ is an absorption term and $\\nu$ is the viscosity coefficient. A projection based solution method formed by manipulating the \n",
    "discretised equations which results in the following procedure,\n",
    "1. Solve for $\\mathbf{q}^{n+1}$ using the two-step approach outlined for the Burgers and advection-diffusion equation but treating the term involving $\\sigma$ fully implicitly:\n",
    "$$\n",
    "\\frac{\\mathbf{q}^{n+1} -\\mathbf{q}^{n} }{\\Delta t} + u^n\\frac{\\partial \\mathbf{q}^{n+\\frac{1}{2}} }{\\partial x} +  v^n\\frac{\\partial \\mathbf{q}^{n+\\frac{1}{2}} }{\\partial y} + \n",
    "\\sigma \\mathbf{q}^{n+1} - \\nu \\nabla \\cdot \\nabla \\mathbf{q}^{n+\\frac{1}{2}} = -\\nabla p^n \\,\n",
    "$$\n",
    "2. Solve for pressure correction $\\Delta p$:\n",
    "$$ \n",
    "\\nabla^2 \\Delta p = -\\frac{1}{\\Delta t} \\nabla \\cdot \\mathbf{q}^{n+1}  \n",
    "$$\n",
    "3. Solve for the velocity correction $\\Delta \\mathbf{q}$ using the U-net structured multigrid solver\n",
    "$$\n",
    "\\Delta \\mathbf{q} = -\\Delta t \\nabla \\Delta p. \n",
    "$$\n",
    "4. Update pressure solution: $p^{n+1} = p^n + \\Delta p$\n",
    "5. Update velocity solution: $\\mathbf{q}^{n+1} \\leftarrow \\mathbf{q}^{n+1} + \\Delta \\mathbf{q}$"
   ]
  },
  {
   "cell_type": "markdown",
   "id": "35d6fee1-6c57-4730-a5b6-cd169bca933e",
   "metadata": {},
   "source": [
    "## More details can be found in our recent publications,\n",
    "+\n",
    "Phillips TR, Heaney CE, Chen B, Buchan AG, Pain CC. [Solving the discretised neutron diffusion equations using neural networks](https://doi.org/10.1002/nme.7321). International Journal for Numerical Methods in Engineering. 2023 Nov 15;124(21):4659-86. \n",
    "+\n",
    "Phillips TR, Heaney CE, Chen B, Buchan AG, Pain CC. [Solving the Discretised Boltzmann Transport Equations using Neural Networks: Applications in Neutron Transport](https://doi.org/10.48550/arXiv.2301.09991). arXiv preprint arXiv:2301.09991. 2023 Jan 24. \n",
    "+\n",
    "Chen B, Heaney CE, Pain CC. [Using AI libraries for Incompressible Computational Fluid Dynamics](https://doi.org/10.48550/arXiv.2402.17913). arXiv preprint arXiv:2402.17913. 2024 Feb 27. \n",
    "+\n",
    "Chen B, Heaney CE, Gomes JL, Matar OK, Pain CC. [Solving the Discretised Multiphase Flow Equations with Interface Capturing on Structured Grids Using Machine Learning Libraries]( https://doi.org/10.1016/j.cma.2024.116974). Computer Methods in Applied Mechanics and Engineering. 2024 June 1; 426: 0045-7825.\n",
    "\n",
    "Contact: Prof Christopher C. Pain (c.pain@imperial.ac.uk), Dr Claire E. Heaney (c.heaney@imperial.ac.uk), Dr Boyang Chen (boyang.chen16@imperial.ac.uk). [Applied Modelling and Computation Group](https://www.imperial.ac.uk/earth-science/research/research-groups/amcg/), Department of Earth Science and Engineering, Imperial College London"
   ]
  },
  {
   "cell_type": "markdown",
   "id": "4a0d59f5-f274-4922-97aa-b3542b41c15d",
   "metadata": {},
   "source": [
    "## Load modules from Python/Pytorch"
   ]
  },
  {
   "cell_type": "code",
   "execution_count": 16,
   "id": "1fe4279a-a8c1-49c4-aa9e-b9a383e94f73",
   "metadata": {},
   "outputs": [
    {
     "name": "stdout",
     "output_type": "stream",
     "text": [
      "False cpu\n"
     ]
    }
   ],
   "source": [
    "import os\n",
    "import numpy as np \n",
    "import torch\n",
    "import matplotlib.pyplot as plt\n",
    "\n",
    "\n",
    "import ai4pdes\n",
    "from ai4pdes.models import FlowPastBlock, Block\n",
    "\n",
    "\n",
    "# Check if GPU is available \n",
    "is_gpu = torch.cuda.is_available()\n",
    "device = torch.device(\"cuda\" if is_gpu else \"cpu\")\n",
    "print(is_gpu, device)"
   ]
  },
  {
   "cell_type": "markdown",
   "id": "88a9a81f-5811-4921-a791-fae20e37d653",
   "metadata": {},
   "source": [
    "## Create grid\n",
    "The first step is to create our domain on a grid. We will use the default settings with domain size `nx=254`, `ny=62`. "
   ]
  },
  {
   "cell_type": "code",
   "execution_count": 17,
   "id": "72f66819-3ad8-4835-aa41-fee3bed9da30",
   "metadata": {},
   "outputs": [
    {
     "name": "stdout",
     "output_type": "stream",
     "text": [
      "<ai4pdes.grid.Grid object at 0x15b541850>\n"
     ]
    }
   ],
   "source": [
    "from ai4pdes.grid import Grid\n",
    "grid = Grid(nx=254, ny=62)\n",
    "print(grid)"
   ]
  },
  {
   "cell_type": "markdown",
   "metadata": {},
   "source": [
    "## Create a block\n",
    "We can create a custom block that lives in the grid and provide the position and size of the block."
   ]
  },
  {
   "cell_type": "code",
   "execution_count": 60,
   "metadata": {},
   "outputs": [
    {
     "name": "stdout",
     "output_type": "stream",
     "text": [
      "A bluff body has been created successfully!\n",
      "===========================================\n",
      "Size of body in x: 60\n",
      "Size of body in y: 20\n",
      "position of body in x: 126\n",
      "position of body in y: 30\n",
      "===========================================\n"
     ]
    }
   ],
   "source": [
    "block = Block(grid, cor_x=126, cor_y=30, size_x=30, size_y=10)\n"
   ]
  },
  {
   "cell_type": "code",
   "execution_count": 52,
   "metadata": {},
   "outputs": [
    {
     "data": {
      "text/plain": [
       "<matplotlib.image.AxesImage at 0x15c7e5150>"
      ]
     },
     "execution_count": 52,
     "metadata": {},
     "output_type": "execute_result"
    },
    {
     "data": {
      "image/png": "[encoded data removed]",
      "text/plain": [
       "<Figure size 640x480 with 1 Axes>"
      ]
     },
     "metadata": {},
     "output_type": "display_data"
    }
   ],
   "source": [
    "## Visualise the block\n",
    "plt.imshow(block.sigma[0,0,:,:].cpu(), cmap='gray_r')\n"
   ]
  },
  {
   "cell_type": "markdown",
   "metadata": {},
   "source": [
    "## Create model\n",
    "Create an instance of the model. We are using the `FlowPastBlock` model. It requires information about the grid, the block. "
   ]
  },
  {
   "cell_type": "code",
   "execution_count": 53,
   "metadata": {},
   "outputs": [
    {
     "name": "stdout",
     "output_type": "stream",
     "text": [
      "All the required 2D filters have been created successfully!\n",
      "===========================================================\n",
      "w1    => second order derivative  - (1,1,3,3)\n",
      "w2    => first order derivative x - (1,1,3,3)\n",
      "w3    => first order derivative y - (1,1,3,3)\n",
      "wA    => second order derivative  - (1,1,3,3)\n",
      "w_res => Restriction operation    - (1,1,3,3)\n",
      "diag  => Diagonal component of wA - (1,1,1,1)\n",
      "===========================================================\n",
      "<ai4pdes.models.flow_past_block.FlowPastBlock object at 0x15c74cf50>\n"
     ]
    }
   ],
   "source": [
    "model = FlowPastBlock(grid, block)\n",
    "print(model)"
   ]
  },
  {
   "cell_type": "markdown",
   "metadata": {},
   "source": [
    "## Create a simulation\n",
    "Our simulation will contain information about model and the variables within our model."
   ]
  },
  {
   "cell_type": "code",
   "execution_count": 54,
   "metadata": {},
   "outputs": [
    {
     "name": "stdout",
     "output_type": "stream",
     "text": [
      "<ai4pdes.models.simulation.Simulation object at 0x15c59d010>\n"
     ]
    }
   ],
   "source": [
    "simulation = model.initialize()\n",
    "print(simulation)"
   ]
  },
  {
   "cell_type": "code",
   "execution_count": 55,
   "metadata": {},
   "outputs": [
    {
     "name": "stdout",
     "output_type": "stream",
     "text": [
      "<ai4pdes.variables.PrognosticVariables object at 0x15c7cc6d0>\n",
      "<ai4pdes.variables.DiagnosticVariables object at 0x15c609150>\n",
      "<ai4pdes.models.flow_past_block.FlowPastBlock object at 0x15c74cf50>\n"
     ]
    }
   ],
   "source": [
    "print(simulation.prognostic_variables)\n",
    "print(simulation.diagnostic_variables)\n",
    "print(simulation.model)"
   ]
  },
  {
   "cell_type": "markdown",
   "metadata": {},
   "source": [
    "## Run the model"
   ]
  },
  {
   "cell_type": "code",
   "execution_count": 56,
   "metadata": {},
   "outputs": [
    {
     "name": "stdout",
     "output_type": "stream",
     "text": [
      "Time step: 100 Pressure residual: 0.00000\n",
      "Time step: 200 Pressure residual: 0.00000\n",
      "Time step: 300 Pressure residual: 0.00000\n",
      "Time step: 400 Pressure residual: 0.00000\n",
      "Time step: 500 Pressure residual: 0.00000\n",
      "Time step: 600 Pressure residual: 0.00000\n",
      "Time step: 700 Pressure residual: 0.00000\n",
      "Time step: 800 Pressure residual: 0.00000\n",
      "Time step: 900 Pressure residual: 0.00000\n",
      "Time step: 1000 Pressure residual: 0.00000\n",
      "Elapsed time: 5.832175016403198\n"
     ]
    }
   ],
   "source": [
    "simulation.run(ntimesteps=1000)\n"
   ]
  },
  {
   "cell_type": "markdown",
   "metadata": {},
   "source": [
    "## Plot the results"
   ]
  },
  {
   "cell_type": "code",
   "execution_count": 57,
   "metadata": {},
   "outputs": [
    {
     "data": {
      "text/plain": [
       "tensor([[[[ 0.,  0.,  0.,  ...,  0.,  0.,  0.],\n",
       "          [-1.,  0.,  0.,  ...,  0.,  0., -1.],\n",
       "          [-1.,  0.,  0.,  ...,  0.,  0., -1.],\n",
       "          ...,\n",
       "          [-1.,  0.,  0.,  ...,  0.,  0., -1.],\n",
       "          [-1.,  0.,  0.,  ...,  0.,  0., -1.],\n",
       "          [ 0.,  0.,  0.,  ...,  0.,  0.,  0.]]]])"
      ]
     },
     "execution_count": 57,
     "metadata": {},
     "output_type": "execute_result"
    }
   ],
   "source": [
    "simulation.prognostic_variables.u"
   ]
  },
  {
   "cell_type": "code",
   "execution_count": 58,
   "metadata": {},
   "outputs": [
    {
     "ename": "ModuleNotFoundError",
     "evalue": "No module named 'ai4pdes.plot_state'",
     "output_type": "error",
     "traceback": [
      "\u001b[0;31m---------------------------------------------------------------------------\u001b[0m",
      "\u001b[0;31mModuleNotFoundError\u001b[0m                       Traceback (most recent call last)",
      "\u001b[1;32m/Users/lauraman/Documents/OxfordRSE/RSEWeek/AI4PDEs/examples/tutorial_flow_past_block.ipynb Cell 20\u001b[0m line \u001b[0;36m1\n\u001b[0;32m----> <a href='vscode-notebook-cell:/Users/lauraman/Documents/OxfordRSE/RSEWeek/AI4PDEs/examples/tutorial_flow_past_block.ipynb#Y102sZmlsZQ%3D%3D?line=0'>1</a>\u001b[0m \u001b[39mfrom\u001b[39;00m \u001b[39mai4pdes\u001b[39;00m\u001b[39m.\u001b[39;00m\u001b[39mplot_state\u001b[39;00m \u001b[39mimport\u001b[39;00m plot_u, plot_v\n\u001b[1;32m      <a href='vscode-notebook-cell:/Users/lauraman/Documents/OxfordRSE/RSEWeek/AI4PDEs/examples/tutorial_flow_past_block.ipynb#Y102sZmlsZQ%3D%3D?line=2'>3</a>\u001b[0m plot_u(prognostic_variables)\n\u001b[1;32m      <a href='vscode-notebook-cell:/Users/lauraman/Documents/OxfordRSE/RSEWeek/AI4PDEs/examples/tutorial_flow_past_block.ipynb#Y102sZmlsZQ%3D%3D?line=3'>4</a>\u001b[0m plt\u001b[39m.\u001b[39mshow()\n",
      "\u001b[0;31mModuleNotFoundError\u001b[0m: No module named 'ai4pdes.plot_state'"
     ]
    }
   ],
   "source": [
    "from ai4pdes.plot_state import plot_u, plot_v\n",
    "\n",
    "plot_u(prognostic_variables)\n",
    "plt.show()"
   ]
  },
  {
   "cell_type": "code",
   "execution_count": 59,
   "metadata": {},
   "outputs": [
    {
     "ename": "NameError",
     "evalue": "name 'plot_v' is not defined",
     "output_type": "error",
     "traceback": [
      "\u001b[0;31m---------------------------------------------------------------------------\u001b[0m",
      "\u001b[0;31mNameError\u001b[0m                                 Traceback (most recent call last)",
      "\u001b[1;32m/Users/lauraman/Documents/OxfordRSE/RSEWeek/AI4PDEs/examples/tutorial_flow_past_block.ipynb Cell 21\u001b[0m line \u001b[0;36m1\n\u001b[0;32m----> <a href='vscode-notebook-cell:/Users/lauraman/Documents/OxfordRSE/RSEWeek/AI4PDEs/examples/tutorial_flow_past_block.ipynb#Y103sZmlsZQ%3D%3D?line=0'>1</a>\u001b[0m plot_v(prognostic_variables)\n\u001b[1;32m      <a href='vscode-notebook-cell:/Users/lauraman/Documents/OxfordRSE/RSEWeek/AI4PDEs/examples/tutorial_flow_past_block.ipynb#Y103sZmlsZQ%3D%3D?line=1'>2</a>\u001b[0m plt\u001b[39m.\u001b[39mshow()\n",
      "\u001b[0;31mNameError\u001b[0m: name 'plot_v' is not defined"
     ]
    }
   ],
   "source": [
    "plot_v(prognostic_variables)\n",
    "plt.show()"
   ]
  },
  {
   "cell_type": "code",
   "execution_count": null,
   "metadata": {},
   "outputs": [],
   "source": []
  }
 ],
 "metadata": {
  "kernelspec": {
   "display_name": "Python 3 (ipykernel)",
   "language": "python",
   "name": "python3"
  },
  "language_info": {
   "codemirror_mode": {
    "name": "ipython",
    "version": 3
   },
   "file_extension": ".py",
   "mimetype": "text/x-python",
   "name": "python",
   "nbconvert_exporter": "python",
   "pygments_lexer": "ipython3",
   "version": "3.11.9"
  }
 },
 "nbformat": 4,
 "nbformat_minor": 5
}
